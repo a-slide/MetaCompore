{
 "cells": [
  {
   "cell_type": "code",
   "execution_count": 4,
   "metadata": {
    "ExecuteTime": {
     "end_time": "2021-01-13T18:16:23.734501Z",
     "start_time": "2021-01-13T18:16:22.639944Z"
    }
   },
   "outputs": [],
   "source": [
    "# Standard lib imports\n",
    "import os\n",
    "from datetime import date\n",
    "from collections import *\n",
    "from glob import glob, iglob\n",
    "from shutil import rmtree\n",
    "import itertools\n",
    "from pprint import pprint as pp\n",
    "\n",
    "# Generic third party imports\n",
    "from pycltools.pycltools import *\n",
    "import pysam\n",
    "import pyfaidx\n",
    "\n",
    "# Ploting lib imports\n",
    "import matplotlib.pyplot as pl\n",
    "import seaborn as sns\n",
    "%matplotlib inline\n",
    "\n",
    "# Data wrangling lib imports\n",
    "import pandas as pd\n",
    "import numpy as np\n",
    "import scipy as sp\n",
    "pd.options.display.max_colwidth = 200\n",
    "pd.options.display.max_columns = 200"
   ]
  },
  {
   "cell_type": "markdown",
   "metadata": {},
   "source": [
    "## Make sample sheet"
   ]
  },
  {
   "cell_type": "code",
   "execution_count": 6,
   "metadata": {
    "ExecuteTime": {
     "end_time": "2021-01-13T18:16:42.343210Z",
     "start_time": "2021-01-13T18:16:42.325348Z"
    }
   },
   "outputs": [
    {
     "name": "stdout",
     "output_type": "stream",
     "text": [
      "sample_id\tcondition\treplicate\tfast5_dir\n",
      "s0\tKO\t0\t/home/aleg/Programming/Packages/MetaCompore/MetaCompore/data/yeast/fast5/KO_rep0\n",
      "s1\tKO\t1\t/home/aleg/Programming/Packages/MetaCompore/MetaCompore/data/yeast/fast5/KO_rep1\n",
      "s2\tKO\t2\t/home/aleg/Programming/Packages/MetaCompore/MetaCompore/data/yeast/fast5/KO_rep2\n",
      "s3\tWT\t0\t/home/aleg/Programming/Packages/MetaCompore/MetaCompore/data/yeast/fast5/WT_rep0\n",
      "s4\tWT\t1\t/home/aleg/Programming/Packages/MetaCompore/MetaCompore/data/yeast/fast5/WT_rep1\n",
      "s5\tWT\t2\t/home/aleg/Programming/Packages/MetaCompore/MetaCompore/data/yeast/fast5/WT_rep2\n"
     ]
    }
   ],
   "source": [
    "with open(\"./samples.tsv\", \"w\") as fp:\n",
    "    fp.write(\"sample_id\\tcondition\\treplicate\\tfast5_dir\\n\")\n",
    "\n",
    "    for i, fast5_dir in enumerate(sorted(glob.glob(\"./data/yeast/fast5/*\"))):\n",
    "        name = os.path.basename(fast5_dir)\n",
    "        condition = name.split(\"_\")[0]\n",
    "        replicate = int(name.split(\"_\")[1][-1])\n",
    "        fast5_dir = os.path.abspath(fast5_dir)\n",
    "        fp.write(f\"s{i}\\t{condition}\\t{replicate}\\t{fast5_dir}\\n\")\n",
    "\n",
    "cat(\"./samples.tsv\")"
   ]
  },
  {
   "cell_type": "markdown",
   "metadata": {},
   "source": [
    "## Create template files"
   ]
  },
  {
   "cell_type": "code",
   "execution_count": 21,
   "metadata": {
    "ExecuteTime": {
     "end_time": "2020-12-11T21:22:17.854295Z",
     "start_time": "2020-12-11T21:22:17.843053Z"
    }
   },
   "outputs": [],
   "source": [
    "for name in [\n",
    "    #\"input\",\n",
    "    \"basecalling\",\n",
    "    \"alignment\",\n",
    "    \"quality_control\",\n",
    "    \"quantification\",\n",
    "    \"resquiggling\",\n",
    "    \"nanocompore\",\n",
    "    \"eligos2\",\n",
    "    \"xpore\",\n",
    "    \"tombo\",\n",
    "    \"mines\",\n",
    "    \"epinano\",\n",
    "    \"differr_nanopore_DRS\"]:\n",
    "    \n",
    "    fn = f\"workflow/rules/{name}.smk\"\n",
    "    with open (fn, \"w\") as fp: \n",
    "\n",
    "        fp.write(\"\"\"# -*- coding: utf-8 -*-\n",
    "\n",
    "##### Imports #####\n",
    "\n",
    "# Std lib\n",
    "from os.path import join\n",
    "\n",
    "##### Rules #####\n",
    "module_name = \"input\"\n",
    "\n",
    "rule_name=\"rule1\"\n",
    "rule rule1:\n",
    "    input: fa=transcriptome_fa\n",
    "    output: fa=join(\"results\", module_name, rule_name, \"transcriptome_reference.fa\")\n",
    "    log: join(\"logs\",module_name, rule_name, \"name.log\")\n",
    "    threads: get_threads(config, rule_name)\n",
    "    params: opt=get_opt(config, rule_name)\n",
    "    resources: mem_mb=get_mem(config, rule_name)\n",
    "    container: \"library://aleg/default/CONTAINER:TAG\"\n",
    "    script: \"scripts/SCRIPT.py\" \"\"\")\n",
    "\n"
   ]
  },
  {
   "cell_type": "code",
   "execution_count": 34,
   "metadata": {
    "ExecuteTime": {
     "end_time": "2020-12-11T13:37:08.713173Z",
     "start_time": "2020-12-11T13:37:08.704667Z"
    }
   },
   "outputs": [],
   "source": [
    "for name in [\n",
    "    \"guppy\",\n",
    "#     \"minimap2\",\n",
    "#     \"qc\",\n",
    "#     \"quantification\",\n",
    "#     \"nanopolish\",\n",
    "#     \"nanocompore\",\n",
    "#     \"eligos2\",\n",
    "#     \"xpore\",\n",
    "#     \"tombo\",\n",
    "#     \"mines\",\n",
    "    #\"get_transcriptome\"\n",
    "    ]:\n",
    "    \n",
    "    fn = f\"workflow/scripts/{name}.py\"\n",
    "    with open (fn, \"w\") as fp: \n",
    "\n",
    "        fp.write(\"\"\"# -*- coding: utf-8 -*-\n",
    "\n",
    "##### Imports #####\n",
    "\n",
    "from foo import bar\n",
    "\n",
    "\n",
    "##### DEFINE SCRIPT FUNCTION #####\n",
    "\n",
    "def function():\n",
    "    pass\n",
    "\n",
    "\n",
    "##### RUN SCRIPT FUNCTION #####\n",
    "\n",
    "function():\n",
    "\"\"\")"
   ]
  },
  {
   "cell_type": "markdown",
   "metadata": {
    "heading_collapsed": true
   },
   "source": [
    "## Test functions "
   ]
  },
  {
   "cell_type": "code",
   "execution_count": 19,
   "metadata": {
    "ExecuteTime": {
     "end_time": "2020-12-11T14:21:36.712512Z",
     "start_time": "2020-12-11T14:21:36.694571Z"
    },
    "hidden": true
   },
   "outputs": [],
   "source": [
    "##### Imports #####\n",
    "\n",
    "from collections import OrderedDict\n",
    "import logging\n",
    "from pyBioTools import Fasta\n",
    "from pyfaidx import Faidx\n",
    "\n",
    "\n",
    "##### DEFINE SCRIPT FUNCTION #####\n",
    "\n",
    "def get_transcriptome(fa_input, fa_output, fai_output, log_fn):\n",
    "    with open (log_fn, \"w\") as log_fp:\n",
    "        logging.basicConfig(filename=log_fp, level=logging.DEBUG)\n",
    "\n",
    "        try:\n",
    "            # Parse fasta file uncompress and simplify transcript ids\n",
    "            logging.info(\"Read input transcriptome fasta file\")\n",
    "            with open(fa_output, \"w\") as fa_out:\n",
    "                for rec in Fasta.Reader(fa_input):\n",
    "                    fa_out.write(\">{}\\n{}\\n\".format(rec.short_name, rec.seq))\n",
    "\n",
    "            logging.info(\"Index fasta file\")\n",
    "            with Faidx(fa_output) as fa_out:\n",
    "                fa_out.build_index()\n",
    "\n",
    "        except:\n",
    "            logging.exception('Error while running get_transcriptome')\n",
    "            raise"
   ]
  },
  {
   "cell_type": "code",
   "execution_count": 18,
   "metadata": {
    "ExecuteTime": {
     "end_time": "2020-12-11T14:21:22.930037Z",
     "start_time": "2020-12-11T14:21:22.903669Z"
    },
    "hidden": true
   },
   "outputs": [],
   "source": [
    "get_transcriptome(\n",
    "    fa_input=\"./data/reference/transcriptome_reference.fa\",\n",
    "    fa_output=\"./results/transcriptome_reference.fa\",\n",
    "    fai_output=\"./results/transcriptome_reference.fa.fai\",\n",
    "    log_fn=\"./logs/transcriptome_reference.log\")"
   ]
  },
  {
   "cell_type": "markdown",
   "metadata": {
    "heading_collapsed": true
   },
   "source": [
    "## Downsample from fast5 source and create"
   ]
  },
  {
   "cell_type": "code",
   "execution_count": 25,
   "metadata": {
    "ExecuteTime": {
     "end_time": "2020-12-11T11:28:17.026076Z",
     "start_time": "2020-12-11T11:28:17.016828Z"
    },
    "hidden": true
   },
   "outputs": [],
   "source": [
    "from ont_fast5_api.fast5_interface import get_fast5_file\n",
    "from ont_fast5_api.conversion_tools.fast5_subset import Fast5Filter\n",
    "from random import shuffle\n",
    "random.seed(42)\n",
    "\n",
    "def get_read_id (fast5_filepath):\n",
    "    l = []\n",
    "    with get_fast5_file(fast5_filepath, mode=\"r\") as f5:\n",
    "        for read in f5.get_reads():\n",
    "            l.append(read.read_id)            \n",
    "    return l\n"
   ]
  },
  {
   "cell_type": "code",
   "execution_count": 31,
   "metadata": {
    "ExecuteTime": {
     "end_time": "2020-12-11T11:31:04.084071Z",
     "start_time": "2020-12-11T11:30:53.213762Z"
    },
    "hidden": true,
    "scrolled": true
   },
   "outputs": [
    {
     "name": "stdout",
     "output_type": "stream",
     "text": [
      "Sample source ./data/fast5/control/FAL77200_pass_349ad0ae_0.fast5\n",
      "\tReplicate 0\n",
      "\tSubsampling 0\n"
     ]
    },
    {
     "name": "stderr",
     "output_type": "stream",
     "text": [
      "DEBUG:h5py._conv:Creating converter from 5 to 3            |  0% ETA:  --:--:--\n",
      "| 501 of 501|###############################################|100% Time: 0:00:01\n",
      "INFO:Fast5Filter:500 reads extracted\n"
     ]
    },
    {
     "name": "stdout",
     "output_type": "stream",
     "text": [
      "\tReplicate 1\n",
      "\tSubsampling 1\n"
     ]
    },
    {
     "name": "stderr",
     "output_type": "stream",
     "text": [
      "| 501 of 501|###############################################|100% Time: 0:00:01\n",
      "INFO:Fast5Filter:500 reads extracted\n"
     ]
    },
    {
     "name": "stdout",
     "output_type": "stream",
     "text": [
      "\tReplicate 2\n",
      "\tSubsampling 2\n"
     ]
    },
    {
     "name": "stderr",
     "output_type": "stream",
     "text": [
      "| 501 of 501|###############################################|100% Time: 0:00:01\n",
      "INFO:Fast5Filter:500 reads extracted\n"
     ]
    },
    {
     "name": "stdout",
     "output_type": "stream",
     "text": [
      "\tReplicate 3\n",
      "\tSubsampling 3\n"
     ]
    },
    {
     "name": "stderr",
     "output_type": "stream",
     "text": [
      "| 501 of 501|###############################################|100% Time: 0:00:01\n",
      "INFO:Fast5Filter:500 reads extracted\n"
     ]
    },
    {
     "name": "stdout",
     "output_type": "stream",
     "text": [
      "Sample source ./data/fast5/modified/FAL82837_pass_9638a095_0.fast5\n",
      "\tReplicate 0\n",
      "\tSubsampling 0\n"
     ]
    },
    {
     "name": "stderr",
     "output_type": "stream",
     "text": [
      "| 501 of 501|###############################################|100% Time: 0:00:01\n",
      "INFO:Fast5Filter:500 reads extracted\n"
     ]
    },
    {
     "name": "stdout",
     "output_type": "stream",
     "text": [
      "\tReplicate 1\n",
      "\tSubsampling 1\n"
     ]
    },
    {
     "name": "stderr",
     "output_type": "stream",
     "text": [
      "| 501 of 501|###############################################|100% Time: 0:00:01\n",
      "INFO:Fast5Filter:500 reads extracted\n"
     ]
    },
    {
     "name": "stdout",
     "output_type": "stream",
     "text": [
      "\tReplicate 2\n",
      "\tSubsampling 2\n"
     ]
    },
    {
     "name": "stderr",
     "output_type": "stream",
     "text": [
      "| 501 of 501|###############################################|100% Time: 0:00:01\n",
      "INFO:Fast5Filter:500 reads extracted\n"
     ]
    },
    {
     "name": "stdout",
     "output_type": "stream",
     "text": [
      "\tReplicate 3\n",
      "\tSubsampling 3\n"
     ]
    },
    {
     "name": "stderr",
     "output_type": "stream",
     "text": [
      "| 501 of 501|###############################################|100% Time: 0:00:01\n",
      "INFO:Fast5Filter:500 reads extracted\n"
     ]
    }
   ],
   "source": [
    "n = 500\n",
    "replicates = list(range())\n",
    "\n",
    "for fast5_in in [\"./data/fast5/control/FAL77200_pass_349ad0ae_0.fast5\", \"./data/fast5/modified/FAL82837_pass_9638a095_0.fast5\"]:\n",
    "    stdout_print(f\"Sample source {fast5_in}\\n\")\n",
    "    workdir = os.path.dirname(fast5_in)\n",
    "    l = get_read_id(fast5_in)\n",
    "    shuffle(l)\n",
    "    \n",
    "    s = 0\n",
    "    for rep in replicates:\n",
    "        stdout_print(f\"\\tReplicate {rep}\\n\")\n",
    "        read_list_out = os.path.join(workdir, f\"rep{rep}_read_list.txt\")\n",
    "        with open (read_list_out, \"w\") as fp:\n",
    "            for r in l[s: s+n]:\n",
    "                fp.write(f\"{r}\\n\")\n",
    "        s+=n\n",
    "        \n",
    "        stdout_print(f\"\\tSubsampling Reads\\n\")\n",
    "        f = Fast5Filter(\n",
    "            input_folder = workdir,\n",
    "            output_folder = f\"{workdir}_rep{rep}\",\n",
    "            read_list_file= read_list_out, \n",
    "            filename_base=\"batch\",\n",
    "            batch_size=100,\n",
    "            threads=5)\n",
    "        f.run_batch()\n",
    "    "
   ]
  },
  {
   "cell_type": "code",
   "execution_count": null,
   "metadata": {
    "hidden": true
   },
   "outputs": [],
   "source": []
  },
  {
   "cell_type": "code",
   "execution_count": null,
   "metadata": {
    "hidden": true
   },
   "outputs": [],
   "source": []
  },
  {
   "cell_type": "code",
   "execution_count": null,
   "metadata": {
    "hidden": true
   },
   "outputs": [],
   "source": []
  },
  {
   "cell_type": "code",
   "execution_count": null,
   "metadata": {
    "hidden": true
   },
   "outputs": [],
   "source": []
  },
  {
   "cell_type": "code",
   "execution_count": null,
   "metadata": {
    "hidden": true
   },
   "outputs": [],
   "source": []
  },
  {
   "cell_type": "code",
   "execution_count": null,
   "metadata": {
    "hidden": true
   },
   "outputs": [],
   "source": []
  },
  {
   "cell_type": "code",
   "execution_count": null,
   "metadata": {
    "hidden": true
   },
   "outputs": [],
   "source": []
  },
  {
   "cell_type": "code",
   "execution_count": null,
   "metadata": {
    "hidden": true
   },
   "outputs": [],
   "source": []
  },
  {
   "cell_type": "code",
   "execution_count": null,
   "metadata": {
    "hidden": true
   },
   "outputs": [],
   "source": []
  },
  {
   "cell_type": "code",
   "execution_count": null,
   "metadata": {
    "hidden": true
   },
   "outputs": [],
   "source": []
  },
  {
   "cell_type": "code",
   "execution_count": null,
   "metadata": {
    "hidden": true
   },
   "outputs": [],
   "source": []
  },
  {
   "cell_type": "code",
   "execution_count": null,
   "metadata": {
    "hidden": true
   },
   "outputs": [],
   "source": []
  },
  {
   "cell_type": "code",
   "execution_count": null,
   "metadata": {
    "hidden": true
   },
   "outputs": [],
   "source": []
  },
  {
   "cell_type": "code",
   "execution_count": null,
   "metadata": {
    "hidden": true
   },
   "outputs": [],
   "source": []
  },
  {
   "cell_type": "code",
   "execution_count": null,
   "metadata": {
    "hidden": true
   },
   "outputs": [],
   "source": []
  },
  {
   "cell_type": "code",
   "execution_count": null,
   "metadata": {
    "hidden": true
   },
   "outputs": [],
   "source": []
  }
 ],
 "metadata": {
  "kernelspec": {
   "display_name": "Python [conda env:Python3.7]",
   "language": "python",
   "name": "conda-env-Python3.7-py"
  },
  "language_info": {
   "codemirror_mode": {
    "name": "ipython",
    "version": 3
   },
   "file_extension": ".py",
   "mimetype": "text/x-python",
   "name": "python",
   "nbconvert_exporter": "python",
   "pygments_lexer": "ipython3",
   "version": "3.7.7"
  }
 },
 "nbformat": 4,
 "nbformat_minor": 4
}
